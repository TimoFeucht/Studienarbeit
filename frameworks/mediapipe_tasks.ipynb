{
 "cells": [
  {
   "cell_type": "markdown",
   "source": [
    "# Pose Landmarks Detection with MediaPipe Tasks\n",
    "- mediapipe.solutions already provides a complete solution for pose detection\n",
    "- with mediapipe.tasks specific settings can be made and the output can be customized\n",
    "\n",
    "Documentation: https://developers.google.com/mediapipe/solutions/vision/pose_landmarker/python\n",
    "\n",
    "\n",
    "## 1. Preparation\n",
    "- Install mediapipe \n",
    "- Import necessary libraries\n",
    "- Store Pose Landmarker model in variable"
   ],
   "metadata": {
    "collapsed": false
   },
   "id": "c7212e60a997820f"
  },
  {
   "cell_type": "code",
   "execution_count": 11,
   "id": "initial_id",
   "metadata": {
    "collapsed": true,
    "ExecuteTime": {
     "end_time": "2023-10-22T10:23:59.146723200Z",
     "start_time": "2023-10-22T10:23:59.046730300Z"
    }
   },
   "outputs": [],
   "source": [
    "# Run command in terminal: python -m pip install mediapipe\n",
    "import numpy as np\n",
    "import cv2\n",
    "import mediapipe as mp\n",
    "from mediapipe import solutions\n",
    "from mediapipe.framework.formats import landmark_pb2\n",
    "from mediapipe.tasks import python\n",
    "from mediapipe.tasks.python import vision\n",
    "\n",
    "\n",
    "model_asset_path=r'mediapipe_models\\pose_landmarker_heavy.task'"
   ]
  },
  {
   "cell_type": "markdown",
   "source": [
    "## 2. Function to Create Pose Landmarker"
   ],
   "metadata": {
    "collapsed": false
   },
   "id": "c92a4de001979ceb"
  },
  {
   "cell_type": "code",
   "execution_count": 12,
   "outputs": [],
   "source": [
    "def draw_landmarks_on_image(rgb_image, detection_result):\n",
    "  pose_landmarks_list = detection_result.pose_landmarks\n",
    "  annotated_image = np.copy(rgb_image)\n",
    "\n",
    "  # Loop through the detected poses to visualize.\n",
    "  for idx in range(len(pose_landmarks_list)):\n",
    "    pose_landmarks = pose_landmarks_list[idx]\n",
    "\n",
    "    # Draw the pose landmarks.\n",
    "    pose_landmarks_proto = landmark_pb2.NormalizedLandmarkList()\n",
    "    pose_landmarks_proto.landmark.extend([\n",
    "      landmark_pb2.NormalizedLandmark(x=landmark.x, y=landmark.y, z=landmark.z) for landmark in pose_landmarks\n",
    "    ])\n",
    "    solutions.drawing_utils.draw_landmarks(\n",
    "      annotated_image,\n",
    "      pose_landmarks_proto,\n",
    "      solutions.pose.POSE_CONNECTIONS,\n",
    "      solutions.drawing_styles.get_default_pose_landmarks_style())\n",
    "  return annotated_image"
   ],
   "metadata": {
    "collapsed": false,
    "ExecuteTime": {
     "end_time": "2023-10-22T10:23:59.166750200Z",
     "start_time": "2023-10-22T10:23:59.066760300Z"
    }
   },
   "id": "a562f9295829c781"
  },
  {
   "cell_type": "markdown",
   "source": [
    "## 3. Running inference and visualizing the results\n",
    "- open webcam\n",
    "- detect pose landmarks\n",
    "- visualize pose landmarks\n"
   ],
   "metadata": {
    "collapsed": false
   },
   "id": "609a0d5c492bfd18"
  },
  {
   "cell_type": "code",
   "execution_count": 15,
   "outputs": [],
   "source": [
    "# Create an PoseLandmarker object\n",
    "base_options = python.BaseOptions(model_asset_path)\n",
    "options = vision.PoseLandmarkerOptions(\n",
    "    base_options=base_options,\n",
    "    output_segmentation_masks=True)\n",
    "detector = vision.PoseLandmarker.create_from_options(options)\n",
    "\n",
    "# Open Webcam\n",
    "cap = cv2.VideoCapture(0)\n",
    "if not cap.isOpened():\n",
    "    print(\"Camera could not be opened.\")\n",
    "    exit()\n",
    "\n",
    "while cap.isOpened():\n",
    "    ret, frame = cap.read()\n",
    "\n",
    "    if not ret:\n",
    "        print(\"Can't receive frame (stream end?). Exiting ...\")\n",
    "        break\n",
    "        \n",
    "\n",
    "    cv2.imshow('Webcam Feed', frame)\n",
    " \n",
    " \n",
    "    # Detect pose landmarks from the input image.\n",
    "    img = mp.Image(image_format=mp.ImageFormat.SRGB, data=frame)\n",
    "    detection_result = detector.detect(img)\n",
    "    \n",
    "    # Process the detection result. In this case, visualize it.\n",
    "    img_annotated = draw_landmarks_on_image(img.numpy_view(), detection_result)\n",
    "  \n",
    "    # Display annotated image\n",
    "    cv2.imshow('Annotated Webcam Feed', img_annotated)\n",
    "\n",
    "    # Press 'q' to quit\n",
    "    key = cv2.waitKey(1)\n",
    "    if key != -1 or cv2.getWindowProperty('Webcam Feed', cv2.WND_PROP_VISIBLE) < 1:\n",
    "        break\n",
    "\n",
    "# Clean up\n",
    "cap.release()\n",
    "cv2.destroyAllWindows()\n"
   ],
   "metadata": {
    "collapsed": false,
    "ExecuteTime": {
     "end_time": "2023-10-22T10:25:31.256816600Z",
     "start_time": "2023-10-22T10:24:26.031489800Z"
    }
   },
   "id": "8679992153d75b9"
  },
  {
   "cell_type": "code",
   "execution_count": 13,
   "outputs": [],
   "source": [],
   "metadata": {
    "collapsed": false,
    "ExecuteTime": {
     "end_time": "2023-10-22T10:24:00.907013Z",
     "start_time": "2023-10-22T10:24:00.896859400Z"
    }
   },
   "id": "b0b46f6b73d4cac1"
  }
 ],
 "metadata": {
  "kernelspec": {
   "display_name": "Python 3",
   "language": "python",
   "name": "python3"
  },
  "language_info": {
   "codemirror_mode": {
    "name": "ipython",
    "version": 2
   },
   "file_extension": ".py",
   "mimetype": "text/x-python",
   "name": "python",
   "nbconvert_exporter": "python",
   "pygments_lexer": "ipython2",
   "version": "2.7.6"
  }
 },
 "nbformat": 4,
 "nbformat_minor": 5
}
